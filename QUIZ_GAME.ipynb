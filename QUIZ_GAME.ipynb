{
 "cells": [
  {
   "cell_type": "code",
   "execution_count": 1,
   "id": "8ff3d245",
   "metadata": {},
   "outputs": [
    {
     "name": "stdout",
     "output_type": "stream",
     "text": [
      " Welcome to quiz game.\n",
      "Do you wanna play?: Yes\n",
      "Lets Play!\n",
      "What is the full form of CPU? sd\n",
      "incorrect\n",
      "Who invented telescope? d\n",
      "incorrect\n",
      "Who invented Computer? d\n",
      "incorrect\n",
      "Who invented Electricity? d\n",
      "incorrect\n",
      "Great you scored 0\n"
     ]
    }
   ],
   "source": [
    "print(\" Welcome to quiz game.\")\n",
    "\n",
    "playing = input(\"Do you wanna play?: \")\n",
    "if playing != 'yes':\n",
    "    quit()\n",
    "print('Lets Play!')\n",
    "score = 0\n",
    "\n",
    "answer = input(\"What is the full form of CPU? \")\n",
    "\n",
    "if answer == 'central processing unit':\n",
    "    print('correct')\n",
    "    score += 1\n",
    "else:\n",
    "    print('incorrect')\n",
    "    \n",
    "answer = input(\"Who invented telescope? \")\n",
    "\n",
    "if answer == 'Galileo Galilei':\n",
    "    print('correct')\n",
    "    score += 1\n",
    "else:\n",
    "    print('incorrect')\n",
    "    \n",
    "answer = input(\"Who invented Computer? \")\n",
    "\n",
    "if answer == 'Charles Babbage':\n",
    "    print('correct')\n",
    "    score += 1\n",
    "else:\n",
    "    print('incorrect')\n",
    "    \n",
    "answer = input(\"Who invented Electricity? \")\n",
    "\n",
    "if answer == 'Benjamin Franklin':\n",
    "    print('correct')\n",
    "    score += 1\n",
    "else:\n",
    "    print('incorrect')\n",
    "\n",
    "print(\"Great you scored \" + str(score))\n",
    "    "
   ]
  },
  {
   "cell_type": "code",
   "execution_count": null,
   "id": "3c3e04c1",
   "metadata": {},
   "outputs": [],
   "source": []
  }
 ],
 "metadata": {
  "kernelspec": {
   "display_name": "Python 3 (ipykernel)",
   "language": "python",
   "name": "python3"
  },
  "language_info": {
   "codemirror_mode": {
    "name": "ipython",
    "version": 3
   },
   "file_extension": ".py",
   "mimetype": "text/x-python",
   "name": "python",
   "nbconvert_exporter": "python",
   "pygments_lexer": "ipython3",
   "version": "3.9.12"
  }
 },
 "nbformat": 4,
 "nbformat_minor": 5
}
